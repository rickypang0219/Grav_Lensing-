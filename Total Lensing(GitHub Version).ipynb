{
 "cells": [
  {
   "cell_type": "code",
   "execution_count": 28,
   "metadata": {},
   "outputs": [],
   "source": [
    "%matplotlib inline \n",
    "import numpy as np\n",
    "import pandas as pd \n",
    "import scipy as sp\n",
    "import matplotlib.pyplot as plt \n",
    "from mpl_toolkits.mplot3d import Axes3D\n",
    "import seaborn as sns \n",
    "import colossus\n",
    "sns.set_style(\"darkgrid\")"
   ]
  },
  {
   "cell_type": "markdown",
   "metadata": {},
   "source": [
    "# Halo Mass Function \n",
    "We used the online HMF calculator to get the halo mass distribution at different redshift (website: http://hmf.icrar.org)\n",
    "\n",
    "In here, we extract the data of halo mass function when $z = 0.5, 2, 4$. The data is shown as below. With the data of comoving number density of halo mass per unit mass and corresponding halo mass at certain redshift, we may use this information to calculate the total lensing cross-section. In here, we used Pandas to read the files which are downloaded in HMFcalc. "
   ]
  },
  {
   "cell_type": "code",
   "execution_count": 2,
   "metadata": {},
   "outputs": [],
   "source": [
    "hmf_00= pd.read_csv(\"tinker_08_z_00.txt\",skiprows=range(12), sep=' ',\n",
    "            names=['m', 'sigma', 'ln(1/sigma)', 'n_eff', 'f(sigma)', 'dn/dm', 'dn/dlnm', 'dn/dlog10m', 'n(>m)',\n",
    "                   'rho(>m)', 'rho(<m)', 'Lbox(N=1)'])\n",
    "\n",
    "m = hmf_00[\"m\"]"
   ]
  },
  {
   "cell_type": "markdown",
   "metadata": {},
   "source": [
    "# Colossus: Generating Halo Mass Function for Different Redshifts\n",
    "In this code, we use Colossus to generate the halo mass function at different redshifts. When we calculate the total lensing cross-section, we need to know the number of available lenses in the universe at a particular instance. Therefore, we need to use Colossus to generate a comoving number density of haloes per its mass in redshift $z_{L}$ for a given mass range. \n",
    "\n",
    "website of Colossus: http://www.benediktdiemer.com/code/colossus/"
   ]
  },
  {
   "cell_type": "code",
   "execution_count": 63,
   "metadata": {},
   "outputs": [],
   "source": [
    "from colossus.cosmology import cosmology\n",
    "from colossus.lss import mass_function\n",
    "\n",
    "cosmology.setCosmology('planck13')\n",
    "mfunc_fof = mass_function.massFunction(m,z =0.0 , q_in= \"M\", q_out=\"dndlnM\", mdef='vir', model = 'tinker08')"
   ]
  },
  {
   "cell_type": "markdown",
   "metadata": {},
   "source": [
    "# Total Lensing Cross-section\n",
    "\n",
    "The total lensing cross-section is given by the sum of available lenses at the universe at particular instant and its cross-section. Therefore, we need to (total number/ number density, etc) of available lenses at a certain redshift. In this code, we use the comoving number density of haloes per its logarithm of mass. In order to understand the total lensing cross-section for a source, we can imagine the physical picture as follow: \n",
    "\n",
    "Suppose we have a gravitational waves source from redshift $z_{S}$. When it is emitted from $z_{S}$, it will pass through the universe and approaching to us $z = 0$. However, during its propagation, it will pass through haloes in the universe, resulting in graviational lensing. Therefore, our job is to calculating the total lensing cross-section of gravitatinal waves source originates from $z_{S}$ which is the sum of the lensing cross-section of each hales at different lenses redshifts $z_{L} \\in (0, z_{S})$.The equation of total lensing cross-section is given by the follow: \n",
    "\\begin{equation}\n",
    "\\sigma^{S}_{total}(\\mu,z_{S}) =  \\frac{8 \\pi^{3} G^{2}}{c^{4}}\\frac{(\\mu_{0}^{2}+1)}{(\\mu_{0}^{2} -1)^{2}} \\int^{z_{S}}_{0} \\int_{\\Omega_{M}} \\frac{dn(M,z_{L})}{d \\ln{M}} \\Big( \\frac{M}{r_{200}} \\Big)^{2}\\Big( \\frac{d_{A}(z_{L},z_{S})}{d_{A}(z_{s})} \\Big)^{2} d\\ln{M} dV(z_{L})\n",
    "\\end{equation}\n",
    "$\\Omega_{M}$ is the integral domain of mass of available lenses in particular lens redshift $z_{L}$.  This lensing cross-section will tell us the relevant probability of a gravitational waves source in $z_{S}$ will be maginified by $\\mu$."
   ]
  },
  {
   "cell_type": "code",
   "execution_count": 83,
   "metadata": {},
   "outputs": [],
   "source": [
    "# Using Astropy to calculate the total lensing cross section of source plane \n",
    "import astropy \n",
    "from astropy.constants import c, G\n",
    "from astropy.cosmology import FlatLambdaCDM\n",
    "from astropy.cosmology import Planck15 as cosmo\n",
    "import astropy.units as u\n",
    "#cosmo = FlatLambdaCDM(H0=70*u.km/u.s/u.Mpc, Om0=0.3)\n",
    "H_0 = cosmo.H(0)\n",
    "from colossus.halo import mass_so\n",
    "\n",
    "def Hubble(z): \n",
    "    return H_0*np.sqrt(0.307*(1+z)**3 + 0.693)\n",
    "\n",
    "#Assume Virial mass\n",
    "# def r_200(m,zl): \n",
    "#     return (m*G/(100*Hubble(zl)**2))**(1/3)\n",
    "\n",
    "### Colossus R_200c \n",
    "def R_200c(m,zl):\n",
    "    #return np.array([mass_so.M_to_R(m, i, '200c') for i in zs])\n",
    "    return mass_so.M_to_R(m, zl, '200c')\n",
    "\n",
    "# Differential Mass\n",
    "def dlnm(m):\n",
    "    # Change 0 into last position inside array\n",
    "    dM = np.append(np.array([np.log(m[i+1])-np.log(m[i]) for i in range(0,len(m)-1)]), np.array([np.log(m[11])-np.log(m[10])]))\n",
    "    return dM\n",
    "\n",
    "# Comoving Number density of Haloes per ln(Haloes Mass)\n",
    "def dndlnm(m,zl):\n",
    "    mfunc_fof = mass_function.massFunction(m,z =zl , q_in= \"M\", q_out=\"dndlnM\", mdef='200c', model = 'tinker08')\n",
    "    return mfunc_fof\n",
    "\n",
    "\n",
    "\n",
    "# total lensing cross secion (in dn/dlnm unit)\n",
    "def total_cross_sec(m,zl,zs):\n",
    "    # 2 for loops: \n",
    "    \n",
    "    ### We need to add a if statement that z_{L} < z_{S}\n",
    "    ### for a source in Z_{s}, the available lenses are in z_{L} < z_{S}, thus, we sum over the z_{l} from 0 to z_{S}\n",
    "    # For a particular lens redshift, we sum over all the contribution of these lenses\n",
    "    cross_sec = np.array([np.sum(np.asarray([(8*np.pi**3*G**2*c**-4)*dlnm(m)*dndlnm(m,i)*(m/r_200(m=m,zl=i)*cosmo.comoving_volume(i)*(cosmo.angular_diameter_distance_z1z2(i,j)/cosmo.angular_diameter_distance(j)))**2\\\n",
    "                       for i in zl])) for j in zs])\n",
    "    return cross_sec\n",
    "\n",
    "\n"
   ]
  },
  {
   "cell_type": "code",
   "execution_count": 88,
   "metadata": {},
   "outputs": [],
   "source": [
    "### Total Cross-section: integrate all the available lenses \n",
    "\n",
    "def cs(m,zs): \n",
    "    ### USE R_200C instead of virial mass r_200\n",
    "    ### Inner Loop: we integrate the total lens contribution in range zl \\in (0,zs) for a given zs ###\n",
    "    ### Outer Loop: For each source redshift zs, we want to find the total lensing cross-section at zs ###\n",
    "    cross_sec = np.array([np.sum(np.asarray([(8*np.pi**3*G**2*c**-4)*dlnm(m)*dndlnm(m,i)*cosmo.differential_comoving_volume(i)*(m/R_200c(m=m,zl=i))**2*((cosmo.angular_diameter_distance_z1z2(i,j)/cosmo.angular_diameter_distance(j)))**2\\\n",
    "                       for i in np.linspace(0,j,len(zs))])) for j in zs])\n",
    "    \n",
    "    return cross_sec "
   ]
  },
  {
   "cell_type": "code",
   "execution_count": 89,
   "metadata": {},
   "outputs": [],
   "source": [
    "# Gws source range z_{S} = 0.01 ~ 5 since z_{L} < z_{S}\n",
    "zs = np.linspace(0.001,10,50)"
   ]
  },
  {
   "cell_type": "code",
   "execution_count": 90,
   "metadata": {},
   "outputs": [],
   "source": [
    "cross_sec = cs(m,zs)"
   ]
  },
  {
   "cell_type": "code",
   "execution_count": 119,
   "metadata": {},
   "outputs": [
    {
     "data": {
      "image/png": "[encoded data removed]",
      "text/plain": [
       "<Figure size 432x288 with 1 Axes>"
      ]
     },
     "metadata": {},
     "output_type": "display_data"
    }
   ],
   "source": [
    "plt.plot(zs,cross_sec)\n",
    "plt.title(r\"Total Lensing Cross-section vs Source Redshift $z_{S}$ \")\n",
    "plt.ylabel(r\" Total Lensing Cross-section/ $(\\mu_{0}^{2}-1)^{2}/(\\mu_{0}^{2} + 1)$\")\n",
    "plt.xlabel(r\" Source Redshift $z_{S}$\")\n",
    "plt.savefig(\"cross_sec_vs_z.pdf\")"
   ]
  },
  {
   "cell_type": "code",
   "execution_count": 121,
   "metadata": {},
   "outputs": [
    {
     "data": {
      "text/html": [
       "<div>\n",
       "<style scoped>\n",
       "    .dataframe tbody tr th:only-of-type {\n",
       "        vertical-align: middle;\n",
       "    }\n",
       "\n",
       "    .dataframe tbody tr th {\n",
       "        vertical-align: top;\n",
       "    }\n",
       "\n",
       "    .dataframe thead th {\n",
       "        text-align: right;\n",
       "    }\n",
       "</style>\n",
       "<table border=\"1\" class=\"dataframe\">\n",
       "  <thead>\n",
       "    <tr style=\"text-align: right;\">\n",
       "      <th></th>\n",
       "      <th>zs</th>\n",
       "      <th>sigma</th>\n",
       "    </tr>\n",
       "  </thead>\n",
       "  <tbody>\n",
       "    <tr>\n",
       "      <th>20</th>\n",
       "      <td>4.082224</td>\n",
       "      <td>5.589921e-23</td>\n",
       "    </tr>\n",
       "  </tbody>\n",
       "</table>\n",
       "</div>"
      ],
      "text/plain": [
       "          zs         sigma\n",
       "20  4.082224  5.589921e-23"
      ]
     },
     "execution_count": 121,
     "metadata": {},
     "output_type": "execute_result"
    }
   ],
   "source": [
    "cs_vs_z = pd.DataFrame({\"zs\":zs, \"sigma\":cross_sec})\n",
    "cs_vs_z[cs_vs_z[\"sigma\"]== np.max(cs_vs_z[\"sigma\"])]"
   ]
  },
  {
   "cell_type": "code",
   "execution_count": 92,
   "metadata": {},
   "outputs": [],
   "source": [
    "# Maginification of Gravotational waves \n",
    "def mu_gw(zs):\n",
    "    # zs > 0.3 by computation\n",
    "    return (cosmo.luminosity_distance(zs)/cosmo.luminosity_distance(0.15))**2 "
   ]
  },
  {
   "cell_type": "code",
   "execution_count": 129,
   "metadata": {},
   "outputs": [],
   "source": [
    "### cross-section where mu_{GW} is not a constant, it is a function depending on z_{S}\n",
    "def cs_mu(m,zs): \n",
    "    ### What is the differences of using dV and V ???? \n",
    "    ### Inner Loop: we integrate the total lens contribution in range zl \\in (0,zs) for a given zs ###\n",
    "    ### Outer Loop: For each source redshift zs, we want to find the total lensing cross-section at zs ###\n",
    "    cross_sec = np.array([np.sum(np.asarray([(8*np.pi**3*G**2*c**-4)*dlnm(m)*((mu_gw(j)**2+1)/(mu_gw(j)**2-1)**2)*dndlnm(m,i)*cosmo.differential_comoving_volume(i)*(m/r_200(m=m,zl=i)*(cosmo.angular_diameter_distance_z1z2(i,j)/cosmo.angular_diameter_distance(j)))**2\\\n",
    "                       for i in np.linspace(0,j,len(zs))])) for j in zs])\n",
    "    \n",
    "    return cross_sec  "
   ]
  },
  {
   "cell_type": "code",
   "execution_count": 130,
   "metadata": {},
   "outputs": [],
   "source": [
    "mu_z = mu_gw(np.linspace(0.15,1.1,50))"
   ]
  },
  {
   "cell_type": "code",
   "execution_count": 131,
   "metadata": {},
   "outputs": [
    {
     "name": "stderr",
     "output_type": "stream",
     "text": [
      "/Users/pangkachun/Library/Python/3.7/lib/python/site-packages/astropy/units/quantity.py:481: RuntimeWarning: divide by zero encountered in true_divide\n",
      "  result = super().__array_ufunc__(function, method, *arrays, **kwargs)\n"
     ]
    }
   ],
   "source": [
    "cross_sec_mu = cs_mu(m,zs=np.linspace(0.15,1.1,50))"
   ]
  },
  {
   "cell_type": "code",
   "execution_count": 132,
   "metadata": {},
   "outputs": [
    {
     "data": {
      "image/png": "[encoded data removed]",
      "text/plain": [
       "<Figure size 432x288 with 1 Axes>"
      ]
     },
     "metadata": {},
     "output_type": "display_data"
    }
   ],
   "source": [
    "plt.plot(mu_z, cross_sec_mu)\n",
    "plt.yscale(\"log\")\n",
    "#plt.xscale(\"log\")\n",
    "plt.title(r\"Total Lensing Cross-section VS magnification $\\mu_{GW}$\")\n",
    "plt.ylabel(r\"Total Lensing Cross-section\")\n",
    "plt.xlabel(r\" Magnification $\\mu_{GW}$\")\n",
    "plt.savefig(\"cross_sec_vs_mu.pdf\")"
   ]
  },
  {
   "cell_type": "code",
   "execution_count": null,
   "metadata": {},
   "outputs": [],
   "source": []
  }
 ],
 "metadata": {
  "kernelspec": {
   "display_name": "Python 3",
   "language": "python",
   "name": "python3"
  },
  "language_info": {
   "codemirror_mode": {
    "name": "ipython",
    "version": 3
   },
   "file_extension": ".py",
   "mimetype": "text/x-python",
   "name": "python",
   "nbconvert_exporter": "python",
   "pygments_lexer": "ipython3",
   "version": "3.7.3"
  }
 },
 "nbformat": 4,
 "nbformat_minor": 4
}
