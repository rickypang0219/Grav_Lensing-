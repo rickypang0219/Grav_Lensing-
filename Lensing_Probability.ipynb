{
 "cells": [
  {
   "cell_type": "code",
   "execution_count": 1,
   "metadata": {},
   "outputs": [],
   "source": [
    "%matplotlib inline \n",
    "import numpy as np\n",
    "import pandas as pd\n",
    "import matplotlib.pyplot as plt \n",
    "import scipy.integrate as integrate\n",
    "import seaborn as sns \n",
    "import colossus\n",
    "sns.set_style(\"darkgrid\")"
   ]
  },
  {
   "cell_type": "markdown",
   "metadata": {},
   "source": [
    "# Colossus: Generate the Halo Mass Function under different redshifts\n",
    "In this code, we use Colossus to generate the halo mass function at different redshifts. When we calculate the total lensing cross-section, we need to know the number of available lenses in the universe at a particular instance. Therefore, we need to use Colossus to generate a comoving number density of haloes per its mass in redshift $z_{L}$ for a given mass range. \n",
    "\n",
    "website of Colossus: http://www.benediktdiemer.com/code/colossus/"
   ]
  },
  {
   "cell_type": "code",
   "execution_count": 2,
   "metadata": {},
   "outputs": [],
   "source": [
    "from colossus.cosmology import cosmology\n",
    "from colossus.lss import mass_function\n",
    "\n",
    "cosmology.setCosmology('planck13')\n",
    "### Mass Range \n",
    "m = np.linspace(1E12,3*1E15, 10000)\n",
    "mfunc_fof = mass_function.massFunction(m,z =0.0 , q_in= \"M\", q_out=\"dndlnM\", mdef='200c', model = 'tinker08')"
   ]
  },
  {
   "cell_type": "code",
   "execution_count": 3,
   "metadata": {},
   "outputs": [
    {
     "data": {
      "text/plain": [
       "array([3.54361110e-03, 2.78732994e-03, 2.30373040e-03, ...,\n",
       "       2.36600235e-09, 2.36458634e-09, 2.36317123e-09])"
      ]
     },
     "execution_count": 3,
     "metadata": {},
     "output_type": "execute_result"
    }
   ],
   "source": [
    "mfunc_fof"
   ]
  },
  {
   "cell_type": "code",
   "execution_count": 4,
   "metadata": {},
   "outputs": [],
   "source": [
    "dlnm= np.log(m[-1]) - np.log(m[0])"
   ]
  },
  {
   "cell_type": "code",
   "execution_count": 5,
   "metadata": {},
   "outputs": [
    {
     "data": {
      "text/plain": [
       "8.006367567650244"
      ]
     },
     "execution_count": 5,
     "metadata": {},
     "output_type": "execute_result"
    }
   ],
   "source": [
    "dlnm"
   ]
  },
  {
   "cell_type": "code",
   "execution_count": 6,
   "metadata": {},
   "outputs": [
    {
     "data": {
      "text/plain": [
       "9999999999.999992"
      ]
     },
     "execution_count": 6,
     "metadata": {},
     "output_type": "execute_result"
    }
   ],
   "source": [
    "np.e**23.025850929940457"
   ]
  },
  {
   "cell_type": "code",
   "execution_count": 7,
   "metadata": {},
   "outputs": [
    {
     "data": {
      "text/plain": [
       "4.60517018598809"
      ]
     },
     "execution_count": 7,
     "metadata": {},
     "output_type": "execute_result"
    }
   ],
   "source": [
    "np.log(1E15)- np.log(1E13)"
   ]
  },
  {
   "cell_type": "markdown",
   "metadata": {},
   "source": [
    "# Total Lensing Cross-section ( Optical Depth) \n",
    "\n",
    "The total lensing cross-section is given by the sum of available lenses at the universe at particular instant and its cross-section. Therefore, we need to (total number/ number density, etc) of available lenses at a certain redshift. In this code, we use the comoving number density of haloes per its logarithm of mass. In order to understand the total lensing cross-section for a source, we can imagine the physical picture as follow: \n",
    "\n",
    "Suppose we have a gravitational waves source from redshift $z_{S}$. When it is emitted from $z_{S}$, it will pass through the universe and approaching to us $z = 0$. However, during its propagation, it will pass through haloes in the universe, resulting in graviational lensing. Therefore, our job is to calculating the total lensing cross-section of gravitatinal waves source originates from $z_{S}$ which is the sum of the lensing cross-section of each hales at different lenses redshifts $z_{L} \\in (0, z_{S})$.The equation of total lensing cross-section is given by the follow: \n",
    "\\begin{equation}\n",
    "\\sigma^{S}_{total}(\\mu,z_{S}) =  \\frac{8 \\pi^{3} G^{2}}{c^{4}}\\frac{(\\mu_{0}^{2}+1)}{(\\mu_{0}^{2} -1)^{2}} \\int^{z_{S}}_{0} \\int_{\\Omega_{M}} \\frac{dn(M,z_{L})}{d \\ln{M}} \\Big( \\frac{M}{r_{200}} \\Big)^{2}\\Big( \\frac{d_{A}(z_{L},z_{S})}{d_{A}(z_{s})} \\Big)^{2} d\\ln{M} dV(z_{L})\n",
    "\\end{equation}\n",
    "$\\Omega_{M}$ is the integral domain of mass of available lenses in particular lens redshift $z_{L}$.  This lensing cross-section will tell us the relevant probability of a gravitational waves source in $z_{S}$ will be maginified by $\\mu$.\n",
    "\n",
    "In astropy Libary, we can call cosmo.differential_comoving_volume(z) to calculate the differential volume. However, the unit of differential comoving volume is in volume per solid angle per redshift. Therefore, when we need to calculate the integral of differential volume, we are in fact calculating this:\n",
    "\\begin{equation}\n",
    "dV = 4 \\pi \\Big(\\frac{dV}{d \\Omega dz} \\Big)_{astropy} dz\n",
    "\\end{equation}\n",
    "\n",
    "Hence, the equation becomes:\n",
    "\\begin{equation}\n",
    "\\sigma^{S}_{total}(\\mu,z_{S}) =  \\frac{8 \\pi^{3} G^{2}}{c^{4}}\\frac{(\\mu_{0}^{2}+1)}{(\\mu_{0}^{2} -1)^{2}} \\int^{z_{S}}_{0} \\int_{\\Omega_{M}} \\frac{dn(M,z_{L})}{d \\ln{M}} \\Big( \\frac{M}{r_{200}} \\Big)^{2}\\Big( \\frac{d_{A}(z_{L},z_{S})}{d_{A}(z_{s})} \\Big)^{2} d\\ln{M}  \\Big(4 \\pi \\Big(\\frac{dV}{dz_{L}} \\Big) \\Big)dz_{L}\n",
    "\\end{equation}"
   ]
  },
  {
   "cell_type": "code",
   "execution_count": 8,
   "metadata": {},
   "outputs": [],
   "source": [
    "# Using Astropy to calculate the total lensing cross section of source plane \n",
    "import astropy \n",
    "#from astropy.cosmology import FlatLambdaCDM\n",
    "from astropy.cosmology import Planck15 as cosmo\n",
    "import astropy.units as u\n",
    "#cosmo = FlatLambdaCDM(H0=70*u.km/u.s/u.Mpc, Om0=0.3)\n",
    "from colossus.halo import mass_so\n",
    "\n",
    "\n",
    "## constants in computation\n",
    "c = 3E8\n",
    "G = 6.6748E-11\n",
    "H_0 = cosmo.H(0)\n",
    "\n",
    "#Assume Virial mass\n",
    "def r_200(m,zl): \n",
    "    return (m*G/(100*Hubble(zl)**2))**(1/3)\n",
    "\n",
    "### Colossus R_200c function \n",
    "def R_200c(m,zl):\n",
    "    #return np.array([mass_so.M_to_R(m, i, '200c') for i in zs])\n",
    "    return mass_so.M_to_R(m, zl, '200c')\n",
    "\n",
    "# Comoving Number density of Haloes per ln(Haloes Mass)\n",
    "def dndlnm(m,zl):\n",
    "    return  mass_function.massFunction(m,z=zl , q_in= \"M\", q_out=\"dndlnM\", mdef='200c', model = 'watson13')\n",
    "\n",
    "# Maginification of Gravotational waves \n",
    "def mu_gw(zs):\n",
    "    # zs > 0.3 by computation\n",
    "    return (cosmo.luminosity_distance(zs)/cosmo.luminosity_distance(0.15))**2 "
   ]
  },
  {
   "cell_type": "code",
   "execution_count": 9,
   "metadata": {},
   "outputs": [],
   "source": [
    "# Gws source range z_{S} = 0.01 ~ 5 since z_{L} < z_{S}\n",
    "zs = np.linspace(0.1,5,40)"
   ]
  },
  {
   "cell_type": "markdown",
   "metadata": {},
   "source": [
    "# Testing: Cross-section with correct unit :\n",
    "\n",
    "As the Numpy array does not support unit, therefore we manipulate the intergal first and neglect the unit it has. After we get the numerical result, we add the unit later. \n",
    "\n"
   ]
  },
  {
   "cell_type": "code",
   "execution_count": 10,
   "metadata": {},
   "outputs": [],
   "source": [
    "from astropy.constants import G,c\n",
    "\n",
    "### neglect 4*pi from the differential comoving volume  \n",
    "const  = 8*np.pi**3*G**2*c**-4\n",
    "const = const.to(u.Mpc**2 / u.Msun**2)"
   ]
  },
  {
   "cell_type": "code",
   "execution_count": 11,
   "metadata": {},
   "outputs": [
    {
     "data": {
      "text/latex": [
       "$5.6804007 \\times 10^{-37} \\; \\mathrm{\\frac{Mpc^{2}}{M_{\\odot}^{2}}}$"
      ],
      "text/plain": [
       "<Quantity 5.68040068e-37 Mpc2 / solMass2>"
      ]
     },
     "execution_count": 11,
     "metadata": {},
     "output_type": "execute_result"
    }
   ],
   "source": [
    "const"
   ]
  },
  {
   "cell_type": "code",
   "execution_count": 12,
   "metadata": {},
   "outputs": [],
   "source": [
    "# The integrand, we have pull the d_{A}(z_S) out of the integrand as it does not involve z_{L}\n",
    "\n",
    "def integrand_without_const(m,zs):\n",
    "    #const = 32*np.pi**4*G**2*c**-4\n",
    "    f = lambda i:np.average(dndlnm(m,i)*(m/R_200c(m,i))**2)*8.006367567650244*cosmo.differential_comoving_volume(i).value*\\\n",
    "    cosmo.angular_diameter_distance_z1z2(i,zs).value**2\n",
    "    result = integrate.quad(f,0,zs)\n",
    "    return result[0]"
   ]
  },
  {
   "cell_type": "code",
   "execution_count": null,
   "metadata": {},
   "outputs": [],
   "source": [
    "# The lensing dimensionless lensing cross-section without constant term \n",
    "\n",
    "\n",
    "cross_sec_without_const =  np.asarray([cosmo.angular_diameter_distance(i).value**-2*integrand_without_const(m,i) for i in zs])"
   ]
  },
  {
   "cell_type": "code",
   "execution_count": null,
   "metadata": {},
   "outputs": [],
   "source": [
    "# In here, we add the unit of dimensionless cross-section in order to correct the order  \n",
    "A = cross_sec_without_const\n",
    "A = A[:]*(u.Msun**2* u.kpc**-2)\n",
    "\n",
    "# We convert the unit Kpc to Mpc in order to cancel match the dimension of the constant term that we have defined previously\n",
    "A = A.to(u.Msun**2 * u.Mpc**-2)\n"
   ]
  },
  {
   "cell_type": "code",
   "execution_count": null,
   "metadata": {},
   "outputs": [],
   "source": [
    "# Corrected dimesnional lensing cross-section without constant term \n",
    "A"
   ]
  },
  {
   "cell_type": "code",
   "execution_count": null,
   "metadata": {},
   "outputs": [],
   "source": [
    "# Correct lensing cross-section \n",
    "# In this result, it does not involve the term (mu^2 +1)/ (mu^2 -1)^2, it will be specified in the graph \n",
    "cross_sec_with_unit = const*A"
   ]
  },
  {
   "cell_type": "code",
   "execution_count": null,
   "metadata": {},
   "outputs": [],
   "source": [
    "# The extra factor 10/64 is come from the lensing magnification factor (mu^2 +1)/ (mu^2 -1)^2 when mu = 3\n",
    "plt.plot(zs,10*64**-1*cross_sec_with_unit,label=r\" $\\mu$ =3 \" )\n",
    "plt.ylabel(r\"Total Lensing Cross-section $(\\mu_{0}^{2} -1)^{2}/ (\\mu_{0}^{2} + 1)$\")\n",
    "plt.xlabel(r\"Source Redshift $z_{S}$\")\n",
    "plt.title(r\"Total Lensing Cross-section VS Source Redshift $z_{S}$\")\n",
    "plt.yscale(\"log\")\n",
    "plt.legend()\n",
    "plt.savefig(\"cross_sec_dndM_ver.pdf\")"
   ]
  },
  {
   "cell_type": "code",
   "execution_count": null,
   "metadata": {},
   "outputs": [],
   "source": []
  }
 ],
 "metadata": {
  "kernelspec": {
   "display_name": "Python 3",
   "language": "python",
   "name": "python3"
  },
  "language_info": {
   "codemirror_mode": {
    "name": "ipython",
    "version": 3
   },
   "file_extension": ".py",
   "mimetype": "text/x-python",
   "name": "python",
   "nbconvert_exporter": "python",
   "pygments_lexer": "ipython3",
   "version": "3.7.3"
  }
 },
 "nbformat": 4,
 "nbformat_minor": 4
}
